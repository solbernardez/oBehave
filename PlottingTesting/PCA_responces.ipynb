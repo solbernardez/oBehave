{
 "cells": [
  {
   "cell_type": "code",
   "execution_count": 9,
   "metadata": {},
   "outputs": [
    {
     "name": "stdout",
     "output_type": "stream",
     "text": [
      "The autoreload extension is already loaded. To reload it, use:\n",
      "  %reload_ext autoreload\n"
     ]
    }
   ],
   "source": [
    "%load_ext autoreload\n",
    "%autoreload 2\n",
    "import matplotlib as mpl\n",
    "%matplotlib inline\n",
    "import scipy as sp\n",
    "import numpy as np\n",
    "import pandas as pd\n",
    "# sometimes order maters on these\n",
    "import matplotlib.pyplot as plt\n",
    "from mpl_toolkits.mplot3d import Axes3D\n",
    "import oBehave.plotting_stuff as obps\n",
    "import oBehave.helperfunctions as obhf\n",
    "import oBehave.neural_analysis as obna\n",
    "import oBehave.behavior_anaylsis as obba\n",
    "import sklearn.decomposition as decomp\n",
    "\n",
    "\n",
    "from visual_behavior.ophys.dataset.visual_behavior_ophys_dataset import VisualBehaviorOphysDataset\n",
    "from visual_behavior.ophys.response_analysis.utilities import get_trace_around_timepoint,get_nearest_frame\n",
    "from visual_behavior.ophys.response_analysis.response_analysis import ResponseAnalysis\n",
    "\n",
    "experiment_id = 639438856\n"
   ]
  },
  {
   "cell_type": "code",
   "execution_count": null,
   "metadata": {},
   "outputs": [],
   "source": [
    "# Load all the data we will want for this\n",
    "manifest = obhf.load_manifest()\n",
    "obba.includeNovelSession(manifest)\n",
    "dataset= VisualBehaviorOphysDataset(experiment_id=experiment_id, cache_dir=obhf.drive_path)\n",
    "#analysis = ResponseAnalysis(dataset)"
   ]
  },
  {
   "cell_type": "code",
   "execution_count": null,
   "metadata": {},
   "outputs": [],
   "source": [
    "manifest.first_session"
   ]
  },
  {
   "cell_type": "code",
   "execution_count": null,
   "metadata": {},
   "outputs": [
    {
     "name": "stdout",
     "output_type": "stream",
     "text": [
      "644942849\n",
      "loading trial response dataframe\n",
      "loading flash response dataframe\n",
      "645035903\n",
      "loading trial response dataframe\n",
      "loading flash response dataframe\n",
      "645086795\n",
      "loading trial response dataframe\n",
      "loading flash response dataframe\n",
      "645362806\n",
      "loading trial response dataframe\n",
      "loading flash response dataframe\n",
      "646922970\n",
      "loading trial response dataframe\n",
      "loading flash response dataframe\n",
      "647108734\n",
      "loading trial response dataframe\n",
      "loading flash response dataframe\n",
      "647551128\n",
      "loading trial response dataframe\n",
      "loading flash response dataframe\n",
      "647887770\n",
      "loading trial response dataframe\n",
      "loading flash response dataframe\n",
      "652844352\n",
      "loading trial response dataframe\n",
      "loading flash response dataframe\n",
      "653053906\n",
      "loading trial response dataframe\n",
      "loading flash response dataframe\n",
      "653123781\n",
      "loading trial response dataframe\n",
      "loading flash response dataframe\n",
      "639253368\n",
      "loading trial response dataframe\n",
      "loading flash response dataframe\n",
      "639438856\n",
      "loading trial response dataframe\n",
      "loading flash response dataframe\n",
      "639769395\n",
      "loading trial response dataframe\n",
      "loading flash response dataframe\n",
      "639932228\n",
      "loading trial response dataframe\n",
      "loading flash response dataframe\n",
      "661423848\n",
      "loading trial response dataframe\n",
      "loading flash response dataframe\n",
      "663771245\n",
      "loading trial response dataframe\n",
      "loading flash response dataframe\n",
      "663773621\n",
      "loading trial response dataframe\n",
      "loading flash response dataframe\n",
      "665286182\n",
      "loading trial response dataframe\n",
      "loading flash response dataframe\n",
      "670396087\n",
      "loading trial response dataframe\n",
      "loading flash response dataframe\n",
      "671152642\n",
      "loading trial response dataframe\n",
      "loading flash response dataframe\n",
      "672185644\n",
      "loading trial response dataframe\n",
      "loading flash response dataframe\n"
     ]
    }
   ],
   "source": [
    "def compute_lifetime_sparseness(image_responses):\n",
    "    # image responses should be an array of the trial averaged responses to each image\n",
    "    # sparseness = 1-(sum of trial averaged responses to images / N)squared / (sum of (squared mean responses / n)) / (1-(1/N))\n",
    "    # N = number of images\n",
    "    # Modified shamelessly from allen institute code\n",
    "    N = float(len(image_responses))\n",
    "    ls = ((1-(1/N) * ((np.power(np.abs(image_responses).sum(axis=0),2)) / (np.power(image_responses,2).sum(axis=0)))) / (1-(1/N)))\n",
    "    return ls\n",
    "\n",
    "\n",
    "keylist = ['experiment_id','cell_indices','cell_specimen_ids','session_type','cre_line',\n",
    "           'SparAve','Spar1','Spar2','Spar3','Spar4','Spar5','Shit','Smiss']\n",
    "cr = {k:[] for k in keylist}\n",
    "for ex,row in manifest.iterrows():\n",
    "    if not row['first_session']:\n",
    "        continue\n",
    "    print(row['experiment_id'])\n",
    "    dataset= VisualBehaviorOphysDataset(experiment_id=row['experiment_id'], cache_dir=obhf.drive_path)\n",
    "    analysis = ResponseAnalysis(dataset)\n",
    "    FR = obba.includeAddRepeats(analysis.flash_response_df,dataset.all_trials)\n",
    "    unique_cells = np.unique(FR['cell'])\n",
    "    unique_images = np.unique(FR['image_name'])\n",
    "    for ii in unique_cells:\n",
    "        cr['experiment_id'].append(row['experiment_id'])\n",
    "        cr['cell_indices'].append(dataset.cell_indices[ii])\n",
    "        cr['cell_specimen_ids'].append(dataset.cell_specimen_ids[ii])\n",
    "        cr['cre_line'].append(row['cre_line'])\n",
    "        cr['session_type'].append(row['session_type'])\n",
    "        im_means = [FR[(FR['image_name']==image)&( FR['cell']==ii)].mean_response.mean() for image in np.unique(FR['image_name'])]\n",
    "        cr['SparAve'].append(compute_lifetime_sparseness(im_means))\n",
    "        for rr in [1,2,3,4,5]:\n",
    "            im_means = [FR[(FR['image_name']==image)&(FR['cell']==ii)&(FR['repeats']==rr)].mean_response.mean() for image in np.unique(FR['image_name'])]\n",
    "            cr['Spar'+str(rr)].append(compute_lifetime_sparseness(im_means))\n",
    "        im_means = [FR[(FR['image_name']==image)&( FR['cell']==ii)&(FR['repeats']==1)&(FR['response_type']=='HIT')].mean_response.mean() for image in np.unique(FR['image_name'])]\n",
    "        cr['Shit'].append(compute_lifetime_sparseness(im_means))\n",
    "        im_means = [FR[(FR['image_name']==image)&( FR['cell']==ii)&(FR['repeats']==1)&(FR['response_type']=='MISS')].mean_response.mean() for image in np.unique(FR['image_name'])]\n",
    "        cr['Smiss'].append(compute_lifetime_sparseness(im_means))    \n",
    "CellResp = pd.DataFrame(cr)"
   ]
  },
  {
   "cell_type": "code",
   "execution_count": null,
   "metadata": {},
   "outputs": [],
   "source": [
    "671152642\n",
    "CellResp.to_pickle('./popMeanResponseSelectivity.pkl')\n",
    "CellResp.to_hdf('./popMeanResponseSelectivity.hdf5')"
   ]
  },
  {
   "cell_type": "code",
   "execution_count": null,
   "metadata": {},
   "outputs": [],
   "source": [
    "bins = np.linspace(0,1,20)\n",
    "plt.hist(cr['Spar1'],bins = bins,alpha = .5)\n",
    "plt.hist(cr['Shit'],bins = bins,alpha = .5)\n",
    "plt.hist(cr['Smiss'],bins = bins,alpha = .5)\n",
    "sp.stats.ks_2samp(cr['Shit'],cr['Smiss'])"
   ]
  },
  {
   "cell_type": "code",
   "execution_count": null,
   "metadata": {},
   "outputs": [],
   "source": []
  },
  {
   "cell_type": "code",
   "execution_count": null,
   "metadata": {},
   "outputs": [],
   "source": [
    "bins = np.linspace(0,1,20)\n",
    "plt.hist(cr['Spar1'],bins = bins,alpha = .5)\n",
    "plt.hist(cr['Spar2'],bins = bins,alpha = .5)\n",
    "plt.hist(cr['Spar3'],bins = bins,alpha = .5)\n",
    "print(sp.stats.ks_2samp(cr['Spar1'],cr['Spar2']))\n",
    "print(sp.stats.ks_2samp(cr['Spar1'],cr['Spar3']))\n",
    "print(sp.stats.ks_2samp(cr['Spar2'],cr['Spar3']))"
   ]
  },
  {
   "cell_type": "code",
   "execution_count": null,
   "metadata": {},
   "outputs": [],
   "source": []
  }
 ],
 "metadata": {
  "kernelspec": {
   "display_name": "conda_python2",
   "language": "python",
   "name": "conda_python2"
  },
  "language_info": {
   "codemirror_mode": {
    "name": "ipython",
    "version": 2
   },
   "file_extension": ".py",
   "mimetype": "text/x-python",
   "name": "python",
   "nbconvert_exporter": "python",
   "pygments_lexer": "ipython2",
   "version": "2.7.14"
  }
 },
 "nbformat": 4,
 "nbformat_minor": 2
}
